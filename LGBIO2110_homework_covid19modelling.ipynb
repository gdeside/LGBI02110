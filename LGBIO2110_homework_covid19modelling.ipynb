{
 "cells": [
  {
   "cell_type": "markdown",
   "metadata": {},
   "source": [
    "# LGBIO2110 - Introduction to clinical engineering\n",
    "## Project : Epidemiology modelling of COVID-19\n",
    "\n",
    "__Date :__ Year 2021-2022\n",
    "\n",
    "__Professor :__ Philippe Lefèvre and Benoît Delhaye\n",
    "\n",
    "__Author :__ Benoît Delhaye and Donatien Doumont\n",
    "\n",
    "__Content :__ At the end of this project, you should master and understand the following :\n",
    "\n",
    "\n",
    "*   Master and be able to use mathematical modelling of a epidemy\n",
    "*   Understanding the mechanisms that influence the disease spread and their dynamics. Be able to relate the dynamical evolution of the epidemy to events (political decisions, appearance of virus variant, vaccination,...) \n",
    "*   Predict the future trend : how severe will the pandemic be ? \n",
    "*   Suggest control strategies and evaluate their effects\n"
   ]
  },
  {
   "cell_type": "code",
   "execution_count": 27,
   "metadata": {},
   "outputs": [],
   "source": [
    "#Librairies utiles \n",
    "from matplotlib import pyplot as plt\n",
    "from matplotlib import colors as mcolors\n",
    "import numpy as np\n",
    "import urllib3.request\n",
    "import pandas as pd\n",
    "import ipywidgets as widgets\n",
    "%config InlineBackend.figure_format = 'retina'\n",
    "\n",
    "# use NMA plot style\n",
    "plt.style.use(\"https://raw.githubusercontent.com/NeuromatchAcademy/course-content/master/nma.mplstyle\")\n",
    "my_layout = widgets.Layout()"
   ]
  },
  {
   "cell_type": "markdown",
   "metadata": {},
   "source": [
    "<font size=5 color=#009999> Context  </font> <br> <br>\n",
    "SIR model from Kermack-McKendrick is expressed using only three *communicating vessel*\n",
    "*   Susceptible S(t)\n",
    "*   Infected I(t)\n",
    "*   Removed R(t) caused by isolation/recovery/death\n",
    "\n",
    "Dynamical equations of the model are the following : \n",
    "\\begin{align*}\n",
    "    \\dot{S} &= -\\beta S I\\\\\n",
    "    \\dot{I} &= \\beta S I - \\alpha I\\\\\n",
    "    \\dot{R} &= \\alpha I\\\\\n",
    "\\end{align*}\n",
    "Remark that the hypothesis of a constant population is made here, hence $\\dot{S} + \\dot{I} + \\dot{R} = 0$ is verified."
   ]
  },
  {
   "cell_type": "markdown",
   "metadata": {},
   "source": [
    "***\n",
    "Example : Behavior of the model for a given initial value for the susceptible $S(t)$ and infected $I(t)$ group, and for constant beta $\\beta$ and alpha $\\alpha$ parameters.\n",
    "***\n",
    "Play with the widgets parameters to better interpret their impact on the model."
   ]
  },
  {
   "cell_type": "code",
   "execution_count": 28,
   "metadata": {},
   "outputs": [],
   "source": [
    "#SIR model discrete computation \n",
    "def SIRmodel(S0,I0,param):\n",
    "    beta = param[0]\n",
    "    alpha = param[1]\n",
    "    dt = param[2]\n",
    "    #Initialisation\n",
    "    S = np.zeros((N,1))\n",
    "    I = S.copy()\n",
    "    R = S.copy() \n",
    "    S[0] = S0 \n",
    "    I[0] = I0\n",
    "    for i in range(0,N-1) : \n",
    "        #print(i)\n",
    "        S[i+1] = S[i]+(-beta*S[i]*I[i])*dt\n",
    "        I[i+1] = I[i]+(beta*S[i]*I[i]-alpha*I[i])*dt\n",
    "        R[i+1] = R[i]+(alpha*I[i])*dt\n",
    "    return S, I, R\n",
    "\n",
    "#Graphical representation\n",
    "def plot_SIRmodel(t_vector, S, I, R):\n",
    "    plt.plot(t_vector, S, label = 'S(t)')\n",
    "    plt.plot(t_vector, I, label = 'I(t)')\n",
    "    plt.plot(t_vector, R, label = 'R(t)')\n",
    "    plt.legend()\n",
    "    plt.xlabel(\"Time [days]\")\n",
    "    plt.ylabel(\"Relative group size\")\n",
    "    plt.xlim((0,t_vector[-1]))\n",
    "    plt.ylim((0,1))\n",
    "    "
   ]
  },
  {
   "cell_type": "code",
   "execution_count": 29,
   "metadata": {},
   "outputs": [
    {
     "data": {
      "application/vnd.jupyter.widget-view+json": {
       "model_id": "ff89e999ae5d43b88bb381b67739e40c",
       "version_major": 2,
       "version_minor": 0
      },
      "text/plain": [
       "interactive(children=(FloatLogSlider(value=0.5, description='Logarithmic slider: beta', max=1.0, min=-2.0, sty…"
      ]
     },
     "metadata": {},
     "output_type": "display_data"
    }
   ],
   "source": [
    "#--------------------------------------------------\n",
    "tend = 60 #in days\n",
    "Fs = 1e2 #sample frequency\n",
    "N = int(tend*Fs) #sample size\n",
    "time = np.linspace(0,tend,N) #time sequence\n",
    "\n",
    "#Initial condition of the epidemic\n",
    "S0 = 0.9\n",
    "I0 = 0.1\n",
    "\n",
    "def refresh(beta=0.5,alpha_over_one=10):\n",
    "    #Dynamical evolution of the model\n",
    "    alpha = 1/alpha_over_one\n",
    "    Repro0 = beta*S0/alpha\n",
    "    S,I,R = SIRmodel(S0,I0,[beta, alpha, 1/Fs])\n",
    "    plot_SIRmodel(time, S, I, R)\n",
    "    plt.title(\"$R_0$ = \" + str(Repro0))\n",
    "    plt.show()\n",
    "style = {'description_width' : 'initial'}\n",
    "\n",
    "_ = widgets.interact(refresh,\n",
    "    beta = widgets.FloatLogSlider(value=0.5, min=-2, max=1, steps=0.05, description=\"Logarithmic slider: beta\", style = style),\n",
    "    alpha_over_one = widgets.IntSlider(value=10, min=1, max=30, step=1, description=\"Linear slider: 1/alpha(in days):\",style=style),\n",
    ")"
   ]
  },
  {
   "cell_type": "markdown",
   "metadata": {},
   "source": [
    "<font size=5 color=#009999> Homework  </font> <br> <br>\n",
    "Instructions : \n",
    "1. Collect Belgian data \n",
    "2. Adjust the infected population number (being underestimated in the collected dataset)\n",
    "3. Estimate the time varying reproduction number $R_t$ with an appropiate simple model and show the effect of government measures on the time variyng $R_t$ \n",
    "4. Forecast the evolution of $\\beta(t)$ and predict the evolution of the pandemic \n",
    "5. Include the effect of vaccine \n",
    "\n",
    "\n",
    "The dataset used in this project is restricted to the following time period : from $t_0$ = **March, 2020** to $t_1$ = **March, 2021**. \n",
    "\n",
    "You will have to predict the behaviour of the epidemy at least **three months** after $t_1$. \n",
    "\n",
    "***\n",
    "1) Importation of dataset\n",
    "***\n",
    "Open accessed data are imported from webpage sciensano and are preprocessed. \n",
    "\n",
    "Rem : The dataset is created in csv file in a folder data"
   ]
  },
  {
   "cell_type": "code",
   "execution_count": 30,
   "metadata": {},
   "outputs": [
    {
     "name": "stdout",
     "output_type": "stream",
     "text": [
      "[SSL: CERTIFICATE_VERIFY_FAILED] certificate verify failed: unable to get local issuer certificate (_ssl.c:1056)\n"
     ]
    },
    {
     "ename": "FileNotFoundError",
     "evalue": "[Errno 2] No such file or directory: '../data/COVID19BE_HOSP.csv'",
     "output_type": "error",
     "traceback": [
      "\u001b[0;31m---------------------------------------------------------------------------\u001b[0m",
      "\u001b[0;31mFileNotFoundError\u001b[0m                         Traceback (most recent call last)",
      "\u001b[0;32m<ipython-input-30-096985d62b64>\u001b[0m in \u001b[0;36m<module>\u001b[0;34m\u001b[0m\n\u001b[1;32m     20\u001b[0m     \u001b[0;32mexcept\u001b[0m \u001b[0murllib\u001b[0m\u001b[0;34m.\u001b[0m\u001b[0merror\u001b[0m\u001b[0;34m.\u001b[0m\u001b[0mURLError\u001b[0m \u001b[0;32mas\u001b[0m \u001b[0me\u001b[0m\u001b[0;34m:\u001b[0m\u001b[0;34m\u001b[0m\u001b[0;34m\u001b[0m\u001b[0m\n\u001b[1;32m     21\u001b[0m         \u001b[0mprint\u001b[0m\u001b[0;34m(\u001b[0m\u001b[0me\u001b[0m\u001b[0;34m.\u001b[0m\u001b[0mreason\u001b[0m\u001b[0;34m)\u001b[0m\u001b[0;34m\u001b[0m\u001b[0;34m\u001b[0m\u001b[0m\n\u001b[0;32m---> 22\u001b[0;31m     \u001b[0mfileID\u001b[0m \u001b[0;34m=\u001b[0m \u001b[0mopen\u001b[0m\u001b[0;34m(\u001b[0m\u001b[0mfnloc\u001b[0m\u001b[0;34m,\u001b[0m \u001b[0;34m\"w\"\u001b[0m\u001b[0;34m,\u001b[0m \u001b[0mencoding\u001b[0m\u001b[0;34m=\u001b[0m\u001b[0;34m\"utf-8\"\u001b[0m\u001b[0;34m)\u001b[0m\u001b[0;34m\u001b[0m\u001b[0;34m\u001b[0m\u001b[0m\n\u001b[0m\u001b[1;32m     23\u001b[0m     \u001b[0mfileID\u001b[0m\u001b[0;34m.\u001b[0m\u001b[0mwrite\u001b[0m\u001b[0;34m(\u001b[0m\u001b[0mmycontent\u001b[0m\u001b[0;34m)\u001b[0m\u001b[0;34m\u001b[0m\u001b[0;34m\u001b[0m\u001b[0m\n\u001b[1;32m     24\u001b[0m     \u001b[0mfileID\u001b[0m\u001b[0;34m.\u001b[0m\u001b[0mclose\u001b[0m\u001b[0;34m(\u001b[0m\u001b[0;34m)\u001b[0m\u001b[0;34m\u001b[0m\u001b[0;34m\u001b[0m\u001b[0m\n",
      "\u001b[0;31mFileNotFoundError\u001b[0m: [Errno 2] No such file or directory: '../data/COVID19BE_HOSP.csv'"
     ]
    }
   ],
   "source": [
    "## Import Data from sciensano web page\n",
    "# epidemiology status for : \n",
    "# *     Hospitalisation \n",
    "# *     Death\n",
    "# *     Age and Sex \n",
    "# *     Tests\n",
    "# *     Vaccination\n",
    "\n",
    "# Debug console gives for example :  \n",
    "# https://epistat.sciensano.be/Data/COVID19BE_CASES_AGESEX.csv\n",
    "\n",
    "weblink = \"https://epistat.sciensano.be/Data/\"\n",
    "fn = [\"HOSP\", \"MORT\", \"CASES_AGESEX\", \"tests\", \"VACC\"]\n",
    "\n",
    "for i in range(len(fn)):\n",
    "    fnloc = \"../data/COVID19BE_\" + fn[i] + \".csv\"\n",
    "    try:\n",
    "        with urllib.request.urlopen(weblink+\"COVID19BE_\"+fn[i]+\".csv\") as f:\n",
    "            mycontent = f.read().decode('utf-8')\n",
    "    except urllib.error.URLError as e:\n",
    "        print(e.reason)\n",
    "    fileID = open(fnloc, \"w\", encoding=\"utf-8\")\n",
    "    fileID.write(mycontent)\n",
    "    fileID.close()\n",
    "    \n",
    "    #Creation of a table \n",
    "    df = pd.read_csv(fnloc, sep=\",\", header='infer', parse_dates=[\"DATE\"])\n",
    "    #df[\"DATE\"] = pd.to_datetime(df[\"DATE\"], format='%d-%m-%y', unit='D')\n",
    "    \n",
    "    # Beware that some region are NaN\n",
    "    # boolregionnull = df.REGION.isnull()\n",
    "    \n",
    "    # Add new variable to dataframe to have a count of each dose of vaccin\n",
    "    # DOSEA = First dose for Pfizer-BioNTech, Moderna and AstraZeneca-Oxford\n",
    "    # DOSEB = Second dose for Pfizer-BioNTech, Moderna and AstraZeneca-Oxford\n",
    "    # DOSEC = First dose for Johnson&Johnson \n",
    "    # DOSED = *** non existant ***\n",
    "    # DOSEE = Third dose for Pfizer-BioNTech, Moderna and AstraZeneca-Oxford\n",
    "    # DOSEF = *** non existant ***\n",
    "    if fn[i] == \"VACC\": \n",
    "        df.loc[:,\"DOSEA\"] = (df.DOSE==\"A\")*df.COUNT\n",
    "        df.loc[:,\"DOSEB\"] = (df.DOSE==\"B\")*df.COUNT\n",
    "        df.loc[:,\"DOSEC\"] = (df.DOSE==\"C\")*df.COUNT\n",
    "        df.loc[:,\"DOSEE\"] = (df.DOSE==\"E\")*df.COUNT\n",
    "    \n",
    "    #Keep only numerical quantities in the dataset\n",
    "    fieldn = df.columns\n",
    "    dfnum = df.select_dtypes(include='number')\n",
    "    vars = dfnum.columns\n",
    "    dfnum.insert(0,'DATE', df.DATE, True)\n",
    "    \n",
    "    #Sum values over the same day\n",
    "    dfsum = dfnum.groupby(['DATE'], as_index = True).sum()\n",
    "    for ii in range(len(vars)):\n",
    "        exec(fn[i] +'_' +vars[ii]+' = dfsum.'+vars[ii])\n",
    "    exec(fn[i] +'_DATE = df.DATE.unique()')\n",
    "    \n",
    "    #Print of the head of the file (to comment)\n",
    "    #print(df.head())"
   ]
  },
  {
   "cell_type": "markdown",
   "metadata": {},
   "source": [
    "Variable available across time :\n",
    "- from HOSP :           HOSP_DATE, HOSP_NEW_IN, HOSP_NEW_OUT, HOSP_NR_REPORTING, HOSP_TOTAL_IN, HOSP_TOTAL_IN_ECMO, HOSP_TOTAL_IN_ICU, HOSP_TOTAL_IN_RESP.\n",
    "- from MORT :           MORT_DATE, MORT_DEATHS.\n",
    "- from CASES_AGESEX :   CASES_AGESEX_DATE, CASES_AGESEX_CASES.\n",
    "- from tests :          tests_DATE, tests_TESTS_ALL, tests_TESTS_ALL_POS.\n",
    "- from VACC :           VACC_DATE, VACC_COUNT, VACC_DOSEA, VACC_DOSEB, VACC_DOSEC, VACC_DOSEE.\n",
    "\n",
    "Beware that each \n",
    "***\n",
    "2. Infected population estimation : The goal is to better estimate the infected population begin underestimated in the dataset.  \n",
    "***"
   ]
  },
  {
   "cell_type": "code",
   "execution_count": 5,
   "metadata": {},
   "outputs": [],
   "source": [
    "## I(t) estimation \n",
    "\n",
    "######################\n",
    "### Your code here ###\n",
    "######################"
   ]
  },
  {
   "cell_type": "markdown",
   "metadata": {},
   "source": [
    "***\n",
    "3) Fit Data : The goal here is to fit the beta coefficient $\\beta(t)$ with the data across time.\n",
    "You will need to improve your model from the basic SIR model to a SEIR model that account for exposed population group. This group is infected but not contagious for a period of time. \n",
    "***"
   ]
  },
  {
   "cell_type": "code",
   "execution_count": 6,
   "metadata": {},
   "outputs": [],
   "source": [
    "## Fit Data\n",
    "\n",
    "######################\n",
    "### Your code here ###\n",
    "######################"
   ]
  },
  {
   "cell_type": "markdown",
   "metadata": {},
   "source": [
    "***\n",
    "4) Predict the future : The goal is to make prediction about the evolution of beta after $t_1$\n",
    "*** "
   ]
  },
  {
   "cell_type": "code",
   "execution_count": 7,
   "metadata": {},
   "outputs": [],
   "source": [
    "## Predict the future based on your model\n",
    "\n",
    "######################\n",
    "### Your code here ###\n",
    "######################"
   ]
  },
  {
   "cell_type": "markdown",
   "metadata": {},
   "source": [
    "***\n",
    "5) Improve the model to take into account additional features.\n",
    "***"
   ]
  },
  {
   "cell_type": "code",
   "execution_count": 8,
   "metadata": {},
   "outputs": [],
   "source": [
    "## Improvements \n",
    "\n",
    "######################\n",
    "### Your code here ###\n",
    "######################"
   ]
  },
  {
   "cell_type": "code",
   "execution_count": null,
   "metadata": {},
   "outputs": [],
   "source": []
  }
 ],
 "metadata": {
  "interpreter": {
   "hash": "89e6537e435ba55862811266ef2491f22b8f3c485e45a6d4629c3b01c4f16bb5"
  },
  "kernelspec": {
   "display_name": "Python 3",
   "language": "python",
   "name": "python3"
  },
  "language_info": {
   "codemirror_mode": {
    "name": "ipython",
    "version": 3
   },
   "file_extension": ".py",
   "mimetype": "text/x-python",
   "name": "python",
   "nbconvert_exporter": "python",
   "pygments_lexer": "ipython3",
   "version": "3.7.3"
  }
 },
 "nbformat": 4,
 "nbformat_minor": 2
}
